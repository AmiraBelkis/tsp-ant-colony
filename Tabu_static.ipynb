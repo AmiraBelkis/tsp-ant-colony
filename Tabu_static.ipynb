{
  "nbformat": 4,
  "nbformat_minor": 0,
  "metadata": {
    "colab": {
      "name": "Tabu_static.ipynb",
      "provenance": [],
      "authorship_tag": "ABX9TyNvPGTNwlNK0lYdg2tLklMA",
      "include_colab_link": true
    },
    "kernelspec": {
      "name": "python3",
      "display_name": "Python 3"
    },
    "language_info": {
      "name": "python"
    }
  },
  "cells": [
    {
      "cell_type": "markdown",
      "metadata": {
        "id": "view-in-github",
        "colab_type": "text"
      },
      "source": [
        "<a href=\"https://colab.research.google.com/github/AmiraBelkis/tsp-ant-colony/blob/AmiraBelkis-Param-1/Tabu_static.ipynb\" target=\"_parent\"><img src=\"https://colab.research.google.com/assets/colab-badge.svg\" alt=\"Open In Colab\"/></a>"
      ]
    },
    {
      "cell_type": "markdown",
      "source": [
        "# Tabu method"
      ],
      "metadata": {
        "id": "YUByZKPqbnDy"
      }
    },
    {
      "cell_type": "code",
      "execution_count": 2,
      "metadata": {
        "id": "V2ncqkU2aa2f"
      },
      "outputs": [],
      "source": [
        "\"\"\"\n",
        "#importing from github\n",
        "!git clone https://github.com/AmiraBelkis/tsp-ant-colony.git\n",
        "import sys\n",
        "sys.path.append('/content/tsp-ant-colony')\n",
        "\"\"\"\n",
        "# importing neccessairy packages\n",
        "import numpy as np\n",
        "import random\n",
        "import argparse\n",
        "import Parser\n",
        "import time\n",
        "import copy\n",
        "\n",
        "\n",
        "def generate_first_solution_PPV(graphe, v_depart=None):\n",
        "     # Faire une copie du graphe vu qu'il va subir des modification\n",
        "    _graphe = graphe.copy()\n",
        "    # La liste chemin garde trace de notre parcour\n",
        "    chemin = []\n",
        "    # Selection d'1 point de depart\n",
        "    if v_depart is None:\n",
        "        depart = v_depart = np.random.randint(0, len(graphe))\n",
        "    depart = v_depart\n",
        "    # Ajouter le point de depart au chamin de parcour\n",
        "    chemin.append(v_depart)\n",
        "    # Création de l'ensemble des noeuds non visités\n",
        "    noeudsNonVisite = set(\n",
        "        np.delete(np.arange(0, len(graphe)), v_depart).flatten())\n",
        "    cout = 0\n",
        "    while (len(noeudsNonVisite) != 0):\n",
        "        # Retourne le plus proche voisin\n",
        "        v_suivante = np.argmin(_graphe[v_depart, :])\n",
        "        # màj du chemin\n",
        "        chemin.append(v_suivante)\n",
        "        # màj du cout\n",
        "        cout += _graphe[v_depart, v_suivante]\n",
        "        # Aller au prochain neoud\n",
        "        noeudsNonVisite.remove(v_suivante)\n",
        "        v_depart = v_suivante\n",
        "        # De/vers les noeuds deja visité a l'infini\n",
        "        _graphe[v_depart, chemin] = float(\"inf\")\n",
        "        _graphe[chemin, v_depart] = float(\"inf\")\n",
        "\n",
        "    # Ajouter le cout de retour\n",
        "    cout += graphe[v_suivante, depart]\n",
        "\n",
        "    return chemin, cout\n",
        "\n",
        "\n",
        "def trouver_voisinage(solution, matrice):\n",
        "    neighborhood_of_solution = []\n",
        "\n",
        "    for n in solution[1:-1]:\n",
        "        idx1 = solution.index(n)\n",
        "        for kn in solution[idx1+1 :-1]:\n",
        "            idx2 = solution.index(kn)\n",
        "            # Calcul du voisin\n",
        "            _tmp = copy.deepcopy(solution)\n",
        "            _tmp[idx1] = kn\n",
        "            _tmp[idx2] = n\n",
        "\n",
        "            distance = 0\n",
        "            for i in range(len(matrice)):\n",
        "                #Calculer le cout du voisin \n",
        "                distance += matrice[_tmp[i - 1]][_tmp[i]]\n",
        "\n",
        "            _tmp.append(distance)\n",
        "\n",
        "            #Ajouter le resultat à la liste des voisins \n",
        "            neighborhood_of_solution.append(_tmp)\n",
        "\n",
        "    indexOfLastItemInTheList = len(neighborhood_of_solution[0]) - 1\n",
        "    # Trier les voisins suivant leurs couts \n",
        "    neighborhood_of_solution.sort(key=lambda x: x[indexOfLastItemInTheList])\n",
        "    return neighborhood_of_solution\n",
        "\n",
        "\n",
        "def recherche_tabou(matrice, iters, size, start_node=None):\n",
        "    # Generation de la solution initiale\n",
        "    solution, best_cost = generate_first_solution_PPV(matrice, start_node)\n",
        "    # Initialisation de la liste tabou\n",
        "    tabu_list = list() \n",
        "    best_solution_ever = solution\n",
        "    # Repeter pour un nombre d'iterations predefinie\n",
        "    for count in range(iters): \n",
        "        # Generation des voisins de la solution\n",
        "        neighborhood = trouver_voisinage(solution, matrice)\n",
        "        # commencer par le voisin avec le cout le plus minimal\n",
        "        index_of_best_solution = 0\n",
        "        best_solution = neighborhood[index_of_best_solution]\n",
        "        best_cost_index = len(best_solution) - 1\n",
        "\n",
        "        found = False\n",
        "        while found is False:\n",
        "            \n",
        "            if best_solution not in tabu_list:\n",
        "                #si la solution n'existe pas a la liste tabou\n",
        "                tabu_list.append(best_solution[1: -2])\n",
        "                found = True\n",
        "                solution = best_solution[:-1]\n",
        "                cost = neighborhood[index_of_best_solution][best_cost_index]\n",
        "                if cost < best_cost:\n",
        "                    best_cost = cost\n",
        "                    best_solution_ever = solution\n",
        "            else:\n",
        "                index_of_best_solution = index_of_best_solution + 1\n",
        "                best_solution = neighborhood[index_of_best_solution]\n",
        "\n",
        "        if len(tabu_list) >= size:\n",
        "            _ = tabu_list.pop(0)\n",
        "\n",
        "    return best_solution_ever, best_cost\n",
        "\n",
        "\n"
      ]
    },
    {
      "cell_type": "code",
      "source": [
        ""
      ],
      "metadata": {
        "id": "BSmZG88uauXG"
      },
      "execution_count": 2,
      "outputs": []
    },
    {
      "cell_type": "markdown",
      "source": [
        "# Generating a data set\n"
      ],
      "metadata": {
        "id": "XlAtxOEFbsHh"
      }
    },
    {
      "cell_type": "code",
      "source": [
        "import time\n",
        "import random\n",
        "# writing data result to a CSV file to use it in ANOVA \n",
        "import csv \n",
        "    \n",
        "# field names                                                    \n",
        "fields = ['data_set_size','iterations', 'size', 'start', 'cost', 'time']\n",
        "# data rows of csv file \n",
        "rows = [] \n",
        "    \n",
        "# name of csv file \n",
        "filename = \"/content/data_tabu1000.csv\"    \n",
        "# writing to csv file \n",
        "with open(filename, 'w') as csvfile: \n",
        "    # creating a csv writer object \n",
        "    csvwriter = csv.writer(csvfile)       \n",
        "    # writing the fields \n",
        "    csvwriter.writerow(fields) \n",
        "    datasetList = ['/content/tsp-ant-colony/data/data_101.tsp']\n",
        "    for dataset in datasetList: \n",
        "        instance = Parser.TSPInstance(dataset)\n",
        "        instance.readData()\n",
        "        data = np.copy(instance.data)\n",
        "        # numbre of nodes in data set     \n",
        "        ln = len(data[0])\n",
        "        # Tabu loop\n",
        "        for i1 in range(1000):\n",
        "            # numbre of iterations\n",
        "            itr = random.randint(1,101)\n",
        "            # size of tabu list \n",
        "            size = random.randint(1,51)\n",
        "            # starting node \n",
        "            start = random.randint(0,ln-1)\n",
        "            start_time = time.time()\n",
        "            tour, cost = recherche_tabou(data, itr,size, start)\n",
        "            end_time = time.time()\n",
        "            row =[ln,itr ,size,start, 1000/cost,  0.01/(end_time-start_time)]\n",
        "            rows.append(row)\n",
        "            csvwriter.writerow(row)\n",
        "print(rows[0:10])"
      ],
      "metadata": {
        "id": "kiqZrSG6bxKH"
      },
      "execution_count": null,
      "outputs": []
    },
    {
      "cell_type": "code",
      "source": [
        "ln = len(data[0])\n",
        "print(ln)"
      ],
      "metadata": {
        "colab": {
          "base_uri": "https://localhost:8080/"
        },
        "id": "AfLziSxBhqNl",
        "outputId": "bfd837a8-358e-4479-df60-cc831dc535fa"
      },
      "execution_count": 5,
      "outputs": [
        {
          "output_type": "stream",
          "name": "stdout",
          "text": [
            "101\n"
          ]
        }
      ]
    }
  ]
}