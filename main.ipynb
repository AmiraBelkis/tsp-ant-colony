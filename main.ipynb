{
  "cells": [
    {
      "cell_type": "markdown",
      "metadata": {
        "id": "view-in-github",
        "colab_type": "text"
      },
      "source": [
        "<a href=\"https://colab.research.google.com/github/AmiraBelkis/tsp-ant-colony/blob/AmiraBelkis-Param-1/main.ipynb\" target=\"_parent\"><img src=\"https://colab.research.google.com/assets/colab-badge.svg\" alt=\"Open In Colab\"/></a>"
      ]
    },
    {
      "cell_type": "code",
      "execution_count": 14,
      "metadata": {
        "id": "wOBkwD1Ix2Om",
        "outputId": "acc3ff89-b2e7-4cc0-fbfd-1a323e8e5caf",
        "colab": {
          "base_uri": "https://localhost:8080/",
          "height": 375
        }
      },
      "outputs": [
        {
          "output_type": "error",
          "ename": "ModuleNotFoundError",
          "evalue": "ignored",
          "traceback": [
            "\u001b[0;31m---------------------------------------------------------------------------\u001b[0m",
            "\u001b[0;31mModuleNotFoundError\u001b[0m                       Traceback (most recent call last)",
            "\u001b[0;32m<ipython-input-14-59ee74bb8938>\u001b[0m in \u001b[0;36m<module>\u001b[0;34m()\u001b[0m\n\u001b[1;32m      1\u001b[0m \u001b[0;32mimport\u001b[0m \u001b[0mnumpy\u001b[0m \u001b[0;32mas\u001b[0m \u001b[0mnp\u001b[0m\u001b[0;34m\u001b[0m\u001b[0;34m\u001b[0m\u001b[0m\n\u001b[0;32m----> 2\u001b[0;31m \u001b[0;32mimport\u001b[0m \u001b[0mParser\u001b[0m\u001b[0;34m\u001b[0m\u001b[0;34m\u001b[0m\u001b[0m\n\u001b[0m\u001b[1;32m      3\u001b[0m \u001b[0minstance\u001b[0m \u001b[0;34m=\u001b[0m \u001b[0mParser\u001b[0m\u001b[0;34m.\u001b[0m\u001b[0mTSPInstance\u001b[0m\u001b[0;34m(\u001b[0m\u001b[0;34m'data/data_101.tsp'\u001b[0m\u001b[0;34m)\u001b[0m\u001b[0;34m\u001b[0m\u001b[0;34m\u001b[0m\u001b[0m\n\u001b[1;32m      4\u001b[0m \u001b[0minstance\u001b[0m\u001b[0;34m.\u001b[0m\u001b[0mreadData\u001b[0m\u001b[0;34m(\u001b[0m\u001b[0;34m)\u001b[0m\u001b[0;34m\u001b[0m\u001b[0;34m\u001b[0m\u001b[0m\n\u001b[1;32m      5\u001b[0m \u001b[0mdata\u001b[0m \u001b[0;34m=\u001b[0m \u001b[0mnp\u001b[0m\u001b[0;34m.\u001b[0m\u001b[0mcopy\u001b[0m\u001b[0;34m(\u001b[0m\u001b[0minstance\u001b[0m\u001b[0;34m.\u001b[0m\u001b[0mdata\u001b[0m\u001b[0;34m)\u001b[0m\u001b[0;34m\u001b[0m\u001b[0;34m\u001b[0m\u001b[0m\n",
            "\u001b[0;31mModuleNotFoundError\u001b[0m: No module named 'Parser'",
            "",
            "\u001b[0;31m---------------------------------------------------------------------------\u001b[0;32m\nNOTE: If your import is failing due to a missing package, you can\nmanually install dependencies using either !pip or !apt.\n\nTo view examples of installing some common dependencies, click the\n\"Open Examples\" button below.\n\u001b[0;31m---------------------------------------------------------------------------\u001b[0m\n"
          ],
          "errorDetails": {
            "actions": [
              {
                "action": "open_url",
                "actionText": "Open Examples",
                "url": "/notebooks/snippets/importing_libraries.ipynb"
              }
            ]
          }
        }
      ],
      "source": [
        "import numpy as np\n",
        "import Parser\n",
        "instance = Parser.TSPInstance('data/data_101.tsp')\n",
        "instance.readData()\n",
        "data = np.copy(instance.data)"
      ]
    },
    {
      "cell_type": "markdown",
      "metadata": {
        "id": "pok2qYr3x2Os"
      },
      "source": [
        "## Helper methods"
      ]
    },
    {
      "cell_type": "code",
      "execution_count": 3,
      "metadata": {
        "id": "BhPLlSpKx2Ov"
      },
      "outputs": [],
      "source": [
        "def norm_random():\n",
        "    return np.random.randint(100)/100"
      ]
    },
    {
      "cell_type": "markdown",
      "metadata": {
        "id": "-8hXjiCEx2Ow"
      },
      "source": [
        "This function represents the amount of attraciveness of a path against the pheromones put in it \n",
        "$({\\tau^{\\alpha}_x}_y)\\times({\\zeta^{\\beta}_x}_y)$\n"
      ]
    },
    {
      "cell_type": "code",
      "execution_count": 4,
      "metadata": {
        "id": "kzDubcQ0x2Ox"
      },
      "outputs": [],
      "source": [
        "def attract_pherm(x,y,alpha,beta,pheromone,data):\n",
        "    return (pheromone[x][y]**alpha)*((1/data[x][y])**beta)"
      ]
    },
    {
      "cell_type": "code",
      "execution_count": 5,
      "metadata": {
        "id": "uojHuDptx2Oz"
      },
      "outputs": [],
      "source": [
        "def show_paths(ants):\n",
        "    print('completed iteration : ')\n",
        "    i = 1\n",
        "    for ant in ants :\n",
        "        print('ant',i,':',ant.path,', cost :',ant.cost)\n",
        "        i+=1"
      ]
    },
    {
      "cell_type": "markdown",
      "metadata": {
        "id": "Eige5voNx2O0"
      },
      "source": [
        "## Class of ant "
      ]
    },
    {
      "cell_type": "code",
      "execution_count": 6,
      "metadata": {
        "id": "0MBcuLJZx2O1"
      },
      "outputs": [],
      "source": [
        "class Ant:\n",
        "    def __init__(self,begin):\n",
        "        self.path = [begin]\n",
        "        self.cost = 0.0\n",
        "    \n",
        "    #finding next node to visit in stochastic way\n",
        "    def next_node(self,data=[],pheromone=[],alpha=0.5,beta=0.5,random_rate=0.3):\n",
        "        next_node = -1\n",
        "        #case of an ant following the exploit method\n",
        "        if(norm_random()>=random_rate):\n",
        "            allowed_nodes = []\n",
        "            sum_of_probs = 0.0\n",
        "            #get all possible nodes\n",
        "            for i in range(len(data)):\n",
        "                if not (i in self.path): \n",
        "                    allowed_nodes.append(i)\n",
        "                    sum_of_probs += attract_pherm(x= self.path[-1] , y= i , alpha=alpha,beta=beta,pheromone=pheromone,data=data)\n",
        "            #counting probabilities\n",
        "            max_prob = 0\n",
        "\n",
        "            for node in allowed_nodes:\n",
        "                prob_xy = (attract_pherm(x= self.path[-1] , y= node , alpha=alpha,beta=beta,pheromone=pheromone,data=data))/sum_of_probs\n",
        "             \n",
        "                if prob_xy >= max_prob : \n",
        "                    next_node = node\n",
        "                    max_prob = prob_xy\n",
        "           \n",
        "        #case of an ant following the exploring method\n",
        "        else : \n",
        "            node = 0 \n",
        "            while(node in self.path):\n",
        "                node +=1\n",
        "            next_node = node\n",
        "\n",
        "        #adding cost \n",
        "        self.cost+= data[self.path[-1]][next_node]\n",
        "\n",
        "        if(len(self.path)==len(data)):\n",
        "            self.cost+= data[self.path[-1]][0]\n",
        "            \n",
        "        self.path.append(next_node)\n",
        "    \n",
        "    #updating pheromone \n",
        "    def update_pheromone(self, pheromone,q):\n",
        "        for i in range(len(self.path)-1):\n",
        "            pheromone[self.path[i]][self.path[i+1]]+= q/self.cost\n",
        "            pheromone[self.path[i+1]][self.path[i]]+= q/self.cost\n",
        "        new_ph = pheromone\n",
        "        return new_ph\n",
        "    \n",
        "    #reset path\n",
        "    def reset_path(self):\n",
        "        self.cost = 0.0\n",
        "        self.path = [self.path[0]]"
      ]
    },
    {
      "cell_type": "markdown",
      "metadata": {
        "id": "4EFYeR8lx2O4"
      },
      "source": [
        "## Initializing procedures"
      ]
    },
    {
      "cell_type": "code",
      "execution_count": 7,
      "metadata": {
        "id": "4AlCOy0Kx2O5"
      },
      "outputs": [],
      "source": [
        "def initialize_pheromone_matrix(data):\n",
        "    m = np.ones(data.shape)\n",
        "    for i in range(len(m)):\n",
        "        m[i][i]= 0\n",
        "    return m "
      ]
    },
    {
      "cell_type": "code",
      "execution_count": 8,
      "metadata": {
        "id": "HubrW_jix2O6"
      },
      "outputs": [],
      "source": [
        "def initialize_colony(ants_number, data):\n",
        "    ants= []\n",
        "    begin = np.random.randint(len(data))\n",
        "    for i in range(ants_number):\n",
        "        ants.append(Ant(begin))\n",
        "    return ants , begin"
      ]
    },
    {
      "cell_type": "markdown",
      "metadata": {
        "id": "7nKdlBINx2O7"
      },
      "source": [
        "## Ant Colony Algorithm "
      ]
    },
    {
      "cell_type": "code",
      "execution_count": 12,
      "metadata": {
        "id": "M6ccxKksx2O8"
      },
      "outputs": [],
      "source": [
        "def AntColony(data,ants_number = 4, alpha = 0.7 , beta = 0.4 , evaporate_rate = 0.1,random_rate=0.5 , show_history = False):\n",
        "    assert ants_number >=2 \n",
        "    path = []\n",
        "    cost = 0.0\n",
        "    stop = False \n",
        "    pheromone = initialize_pheromone_matrix(data)\n",
        "    ants , begin = initialize_colony(ants_number=ants_number, data=data)\n",
        "    while (not stop) : \n",
        "        #first : visit nodes with ants\n",
        "        for ant in ants:\n",
        "            #looking for a cycle\n",
        "            while (len(ant.path) != len(data)):\n",
        "                ant.next_node(data=data,pheromone=pheromone, alpha=alpha, beta = beta,random_rate=random_rate)\n",
        "        \n",
        "        #second : evaporation \n",
        "        pheromone=np.dot(pheromone,1-evaporate_rate)\n",
        "        \n",
        "        #last : update the pheremone in nodes \n",
        "        for ant in ants:\n",
        "            pheromone = ant.update_pheromone(pheromone=pheromone,q=10)\n",
        "        \n",
        "        #checking the stop condition\n",
        "        path = ants[0].path\n",
        "        stop = True\n",
        "        for ant in ants[1:]:\n",
        "            stop = stop and np.array_equal(path,ant.path)\n",
        "        random_rate = random_rate / 10\n",
        "        \n",
        "        #an optional feature to print the history of paths\n",
        "        if show_history :  \n",
        "            show_paths(ants=ants)\n",
        "\n",
        "        #reseting paths \n",
        "        for ant in ants :\n",
        "            if not stop : ant.reset_path()\n",
        "    else :\n",
        "        return ants[0].path , ants[0].cost"
      ]
    },
    {
      "cell_type": "code",
      "execution_count": 13,
      "metadata": {
        "id": "i2qW4AFWx2O9",
        "outputId": "c78add20-1c45-415d-af7d-7a30d6e66513",
        "colab": {
          "base_uri": "https://localhost:8080/",
          "height": 202
        }
      },
      "outputs": [
        {
          "output_type": "error",
          "ename": "NameError",
          "evalue": "ignored",
          "traceback": [
            "\u001b[0;31m---------------------------------------------------------------------------\u001b[0m",
            "\u001b[0;31mNameError\u001b[0m                                 Traceback (most recent call last)",
            "\u001b[0;32m<ipython-input-13-5035d8efc816>\u001b[0m in \u001b[0;36m<module>\u001b[0;34m()\u001b[0m\n\u001b[0;32m----> 1\u001b[0;31m \u001b[0mp\u001b[0m\u001b[0;34m,\u001b[0m\u001b[0mc\u001b[0m \u001b[0;34m=\u001b[0m \u001b[0mAntColony\u001b[0m\u001b[0;34m(\u001b[0m\u001b[0mdata\u001b[0m\u001b[0;34m=\u001b[0m\u001b[0mdata\u001b[0m\u001b[0;34m,\u001b[0m\u001b[0mants_number\u001b[0m\u001b[0;34m=\u001b[0m\u001b[0;36m4\u001b[0m\u001b[0;34m,\u001b[0m\u001b[0malpha\u001b[0m \u001b[0;34m=\u001b[0m \u001b[0;36m0.5\u001b[0m\u001b[0;34m,\u001b[0m\u001b[0mbeta\u001b[0m \u001b[0;34m=\u001b[0m \u001b[0;36m0.1\u001b[0m\u001b[0;34m,\u001b[0m\u001b[0mevaporate_rate\u001b[0m\u001b[0;34m=\u001b[0m\u001b[0;36m0.1\u001b[0m\u001b[0;34m,\u001b[0m\u001b[0mrandom_rate\u001b[0m\u001b[0;34m=\u001b[0m\u001b[0;36m0.7\u001b[0m\u001b[0;34m,\u001b[0m\u001b[0mshow_history\u001b[0m\u001b[0;34m=\u001b[0m\u001b[0;32mFalse\u001b[0m\u001b[0;34m)\u001b[0m\u001b[0;34m\u001b[0m\u001b[0;34m\u001b[0m\u001b[0m\n\u001b[0m\u001b[1;32m      2\u001b[0m \u001b[0mprint\u001b[0m\u001b[0;34m(\u001b[0m\u001b[0mp\u001b[0m \u001b[0;34m,\u001b[0m \u001b[0mc\u001b[0m\u001b[0;34m)\u001b[0m\u001b[0;34m\u001b[0m\u001b[0;34m\u001b[0m\u001b[0m\n",
            "\u001b[0;31mNameError\u001b[0m: name 'data' is not defined"
          ]
        }
      ],
      "source": [
        "p,c = AntColony(data=data,ants_number=4,alpha = 0.5,beta = 0.1,evaporate_rate=0.1,random_rate=0.7,show_history=False)\n",
        "print(p , c)"
      ]
    },
    {
      "cell_type": "markdown",
      "metadata": {
        "id": "nRr8QK54x2O_"
      },
      "source": [
        "## Running algorithm multiple times to get lower cost"
      ]
    },
    {
      "cell_type": "code",
      "execution_count": null,
      "metadata": {
        "id": "cXNqkKmbx2O_"
      },
      "outputs": [],
      "source": [
        "p = [] \n",
        "c = np.inf\n",
        "for i in range(20): \n",
        "    path , cost = AntColony(data=data,ants_number=5,alpha = 0.5,beta = 0.1,evaporate_rate=0.1,random_rate=0.7,show_history=False)\n",
        "    if(cost < c ):\n",
        "        c = cost \n",
        "        p = path"
      ]
    },
    {
      "cell_type": "code",
      "execution_count": null,
      "metadata": {
        "id": "fppcXFZlx2PA"
      },
      "outputs": [],
      "source": [
        "print(p , c)"
      ]
    },
    {
      "cell_type": "markdown",
      "source": [
        "#  Create dataset to compare parametres"
      ],
      "metadata": {
        "id": "hLDynchmyOyH"
      }
    },
    {
      "cell_type": "code",
      "source": [
        "import time\n",
        "import random\n",
        "# writing data result to a CSV file to use it in ANOVA \n",
        "import csv \n",
        "\n",
        "# field names                                                    \n",
        "fields = ['data_set','Ants_number', 'Alpha', 'Beta' , 'Evaporate_rate', 'Random_rate', 'nbr_iterations', 'cost', 'time'] \n",
        "    \n",
        "# name of csv file \n",
        "fileURL = \"https://raw.githubusercontent.com/AmiraBelkis/tsp-ant-colony/AmiraBelkis-Param-1/data.csv\"    \n",
        "\n",
        "# writing to csv file \n",
        "with open(fileURL, 'w') as csvfile: \n",
        "    # creating a csv writer object \n",
        "    csvwriter = csv.writer(csvfile)       \n",
        "    # writing the fields \n",
        "    csvwriter.writerow(fields) \n",
        "    datasetList = ['data/data_101.tsp']\n",
        "    for dataset in datasetList: \n",
        "        instance = Parser.TSPInstance(dataset)\n",
        "        instance.readData()\n",
        "        data = np.copy(instance.data)\n",
        "        # ants_number loop\n",
        "        for i1 in range(100):\n",
        "            Ants_number = random.randint(2,15)\n",
        "            # alpha \n",
        "            Alpha = random.randint(1,50)\n",
        "            # beta \n",
        "            Beta = random.randint(1,50)\n",
        "            # evaporate_rate \n",
        "            Evaporate_rate = random.randint(5,95)/100\n",
        "            # random_rate \n",
        "            Random_rate = 0.5 #random.randint(5,95)/100\n",
        "            # nbr_iterations loop\n",
        "            nbr_iterations = random.randint(1,10)\n",
        "            p = [] \n",
        "            c = np.inf\n",
        "            start_time = time.time()\n",
        "            for i in range(nbr_iterations): \n",
        "                path , cost = AntColony(data ,Ants_number ,Alpha ,Beta ,Evaporate_rate ,Random_rate ,show_history=False)                                    \n",
        "                if(cost < c ):\n",
        "                    c = cost \n",
        "                    p = path\n",
        "            end_time = time.time()\n",
        "            csvwriter.writerow([dataset,Ants_number, Alpha,Beta ,Evaporate_rate, Random_rate, nbr_iterations, c ,  end_time-start_time])\n",
        "  "
      ],
      "metadata": {
        "id": "7iF6P9SRyUyL",
        "outputId": "33a4bef3-75be-402f-9c04-ac42a94bfd54",
        "colab": {
          "base_uri": "https://localhost:8080/",
          "height": 254
        }
      },
      "execution_count": 15,
      "outputs": [
        {
          "output_type": "error",
          "ename": "FileNotFoundError",
          "evalue": "ignored",
          "traceback": [
            "\u001b[0;31m---------------------------------------------------------------------------\u001b[0m",
            "\u001b[0;31mFileNotFoundError\u001b[0m                         Traceback (most recent call last)",
            "\u001b[0;32m<ipython-input-15-a9b93ba9bc32>\u001b[0m in \u001b[0;36m<module>\u001b[0;34m()\u001b[0m\n\u001b[1;32m     11\u001b[0m \u001b[0;34m\u001b[0m\u001b[0m\n\u001b[1;32m     12\u001b[0m \u001b[0;31m# writing to csv file\u001b[0m\u001b[0;34m\u001b[0m\u001b[0;34m\u001b[0m\u001b[0;34m\u001b[0m\u001b[0m\n\u001b[0;32m---> 13\u001b[0;31m \u001b[0;32mwith\u001b[0m \u001b[0mopen\u001b[0m\u001b[0;34m(\u001b[0m\u001b[0mfileURL\u001b[0m\u001b[0;34m,\u001b[0m \u001b[0;34m'w'\u001b[0m\u001b[0;34m)\u001b[0m \u001b[0;32mas\u001b[0m \u001b[0mcsvfile\u001b[0m\u001b[0;34m:\u001b[0m\u001b[0;34m\u001b[0m\u001b[0;34m\u001b[0m\u001b[0m\n\u001b[0m\u001b[1;32m     14\u001b[0m     \u001b[0;31m# creating a csv writer object\u001b[0m\u001b[0;34m\u001b[0m\u001b[0;34m\u001b[0m\u001b[0;34m\u001b[0m\u001b[0m\n\u001b[1;32m     15\u001b[0m     \u001b[0mcsvwriter\u001b[0m \u001b[0;34m=\u001b[0m \u001b[0mcsv\u001b[0m\u001b[0;34m.\u001b[0m\u001b[0mwriter\u001b[0m\u001b[0;34m(\u001b[0m\u001b[0mcsvfile\u001b[0m\u001b[0;34m)\u001b[0m\u001b[0;34m\u001b[0m\u001b[0;34m\u001b[0m\u001b[0m\n",
            "\u001b[0;31mFileNotFoundError\u001b[0m: [Errno 2] No such file or directory: 'https://raw.githubusercontent.com/AmiraBelkis/tsp-ant-colony/AmiraBelkis-Param-1/data.csv'"
          ]
        }
      ]
    }
  ],
  "metadata": {
    "interpreter": {
      "hash": "5d4ab10f8addeb4ec7c8070a6ac8badac9a4da5f132f94d10455475efcc7a504"
    },
    "kernelspec": {
      "display_name": "Python 3 (ipykernel)",
      "language": "python",
      "name": "python3"
    },
    "language_info": {
      "codemirror_mode": {
        "name": "ipython",
        "version": 3
      },
      "file_extension": ".py",
      "mimetype": "text/x-python",
      "name": "python",
      "nbconvert_exporter": "python",
      "pygments_lexer": "ipython3",
      "version": "3.9.9"
    },
    "colab": {
      "name": "main.ipynb",
      "provenance": [],
      "toc_visible": true,
      "include_colab_link": true
    }
  },
  "nbformat": 4,
  "nbformat_minor": 0
}