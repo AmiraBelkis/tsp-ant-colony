{
  "cells": [
    {
      "cell_type": "code",
      "execution_count": 1,
      "metadata": {
        "id": "dD1iNRli3_bL",
        "outputId": "ee18d1c1-6702-4ee9-a5e2-e5b536935bf7",
        "colab": {
          "base_uri": "https://localhost:8080/",
          "height": 375
        }
      },
      "outputs": [
        {
          "output_type": "error",
          "ename": "ModuleNotFoundError",
          "evalue": "ignored",
          "traceback": [
            "\u001b[0;31m---------------------------------------------------------------------------\u001b[0m",
            "\u001b[0;31mModuleNotFoundError\u001b[0m                       Traceback (most recent call last)",
            "\u001b[0;32m<ipython-input-1-59ee74bb8938>\u001b[0m in \u001b[0;36m<module>\u001b[0;34m()\u001b[0m\n\u001b[1;32m      1\u001b[0m \u001b[0;32mimport\u001b[0m \u001b[0mnumpy\u001b[0m \u001b[0;32mas\u001b[0m \u001b[0mnp\u001b[0m\u001b[0;34m\u001b[0m\u001b[0;34m\u001b[0m\u001b[0m\n\u001b[0;32m----> 2\u001b[0;31m \u001b[0;32mimport\u001b[0m \u001b[0mParser\u001b[0m\u001b[0;34m\u001b[0m\u001b[0;34m\u001b[0m\u001b[0m\n\u001b[0m\u001b[1;32m      3\u001b[0m \u001b[0minstance\u001b[0m \u001b[0;34m=\u001b[0m \u001b[0mParser\u001b[0m\u001b[0;34m.\u001b[0m\u001b[0mTSPInstance\u001b[0m\u001b[0;34m(\u001b[0m\u001b[0;34m'data/data_101.tsp'\u001b[0m\u001b[0;34m)\u001b[0m\u001b[0;34m\u001b[0m\u001b[0;34m\u001b[0m\u001b[0m\n\u001b[1;32m      4\u001b[0m \u001b[0minstance\u001b[0m\u001b[0;34m.\u001b[0m\u001b[0mreadData\u001b[0m\u001b[0;34m(\u001b[0m\u001b[0;34m)\u001b[0m\u001b[0;34m\u001b[0m\u001b[0;34m\u001b[0m\u001b[0m\n\u001b[1;32m      5\u001b[0m \u001b[0mdata\u001b[0m \u001b[0;34m=\u001b[0m \u001b[0mnp\u001b[0m\u001b[0;34m.\u001b[0m\u001b[0mcopy\u001b[0m\u001b[0;34m(\u001b[0m\u001b[0minstance\u001b[0m\u001b[0;34m.\u001b[0m\u001b[0mdata\u001b[0m\u001b[0;34m)\u001b[0m\u001b[0;34m\u001b[0m\u001b[0;34m\u001b[0m\u001b[0m\n",
            "\u001b[0;31mModuleNotFoundError\u001b[0m: No module named 'Parser'",
            "",
            "\u001b[0;31m---------------------------------------------------------------------------\u001b[0;32m\nNOTE: If your import is failing due to a missing package, you can\nmanually install dependencies using either !pip or !apt.\n\nTo view examples of installing some common dependencies, click the\n\"Open Examples\" button below.\n\u001b[0;31m---------------------------------------------------------------------------\u001b[0m\n"
          ],
          "errorDetails": {
            "actions": [
              {
                "action": "open_url",
                "actionText": "Open Examples",
                "url": "/notebooks/snippets/importing_libraries.ipynb"
              }
            ]
          }
        }
      ],
      "source": [
        "import numpy as np\n",
        "import Parser\n",
        "instance = Parser.TSPInstance('data/data_101.tsp')\n",
        "instance.readData()\n",
        "data = np.copy(instance.data)"
      ]
    },
    {
      "cell_type": "markdown",
      "metadata": {
        "id": "m7XUSkZE3_bS"
      },
      "source": [
        "## Helper methods"
      ]
    },
    {
      "cell_type": "code",
      "execution_count": null,
      "metadata": {
        "id": "CXmGJMrK3_bW"
      },
      "outputs": [],
      "source": [
        "def norm_random():\n",
        "    return np.random.randint(100)/100"
      ]
    },
    {
      "cell_type": "markdown",
      "metadata": {
        "id": "MzcEEPpl3_bY"
      },
      "source": [
        "This function represents the amount of attraciveness of a path against the pheromones put in it \n",
        "$({\\tau^{\\alpha}_x}_y)\\times({\\zeta^{\\beta}_x}_y)$\n"
      ]
    },
    {
      "cell_type": "code",
      "execution_count": null,
      "metadata": {
        "id": "V0bG6y0N3_bZ"
      },
      "outputs": [],
      "source": [
        "def attract_pherm(x,y,alpha,beta,pheromone,data):\n",
        "    return (pheromone[x][y]**alpha)*((1/data[x][y])**beta)"
      ]
    },
    {
      "cell_type": "code",
      "execution_count": null,
      "metadata": {
        "id": "_s01XnVP3_ba"
      },
      "outputs": [],
      "source": [
        "def show_paths(ants):\n",
        "    print('completed iteration : ')\n",
        "    i = 1\n",
        "    for ant in ants :\n",
        "        print('ant',i,':',ant.path,', cost :',ant.cost)\n",
        "        i+=1"
      ]
    },
    {
      "cell_type": "markdown",
      "metadata": {
        "id": "mjbjbwqd3_bb"
      },
      "source": [
        "## Class of ant "
      ]
    },
    {
      "cell_type": "code",
      "execution_count": null,
      "metadata": {
        "id": "zAzKKI2x3_bc"
      },
      "outputs": [],
      "source": [
        "class Ant:\n",
        "    def __init__(self,begin):\n",
        "        self.path = [begin]\n",
        "        self.cost = 0.0\n",
        "    \n",
        "    #finding next node to visit in stochastic way\n",
        "    def next_node(self,data=[],pheromone=[],alpha=0.5,beta=0.5,random_rate=0.3):\n",
        "        next_node = -1\n",
        "        #case of an ant following the exploit method\n",
        "        if(norm_random()>=random_rate):\n",
        "            allowed_nodes = []\n",
        "            sum_of_probs = 0.0\n",
        "            #get all possible nodes\n",
        "            for i in range(len(data)):\n",
        "                if not (i in self.path): \n",
        "                    allowed_nodes.append(i)\n",
        "                    sum_of_probs += attract_pherm(x= self.path[-1] , y= i , alpha=alpha,beta=beta,pheromone=pheromone,data=data)\n",
        "            #counting probabilities\n",
        "            max_prob = 0\n",
        "\n",
        "            for node in allowed_nodes:\n",
        "                prob_xy = (attract_pherm(x= self.path[-1] , y= node , alpha=alpha,beta=beta,pheromone=pheromone,data=data))/sum_of_probs\n",
        "             \n",
        "                if prob_xy >= max_prob : \n",
        "                    next_node = node\n",
        "                    max_prob = prob_xy\n",
        "           \n",
        "        #case of an ant following the exploring method\n",
        "        else : \n",
        "            node = 0 \n",
        "            while(node in self.path):\n",
        "                node +=1\n",
        "            next_node = node\n",
        "\n",
        "        #adding cost \n",
        "        self.cost+= data[self.path[-1]][next_node]\n",
        "\n",
        "        if(len(self.path)==len(data)):\n",
        "            self.cost+= data[self.path[-1]][0]\n",
        "            \n",
        "        self.path.append(next_node)\n",
        "    \n",
        "    #updating pheromone \n",
        "    def update_pheromone(self, pheromone,q):\n",
        "        for i in range(len(self.path)-1):\n",
        "            pheromone[self.path[i]][self.path[i+1]]+= q/self.cost\n",
        "            pheromone[self.path[i+1]][self.path[i]]+= q/self.cost\n",
        "        new_ph = pheromone\n",
        "        return new_ph\n",
        "    \n",
        "    #reset path\n",
        "    def reset_path(self):\n",
        "        self.cost = 0.0\n",
        "        self.path = [self.path[0]]"
      ]
    },
    {
      "cell_type": "markdown",
      "metadata": {
        "id": "MAdmswDF3_bf"
      },
      "source": [
        "## Initializing procedures"
      ]
    },
    {
      "cell_type": "code",
      "execution_count": null,
      "metadata": {
        "id": "WUtM2v2z3_bg"
      },
      "outputs": [],
      "source": [
        "def initialize_pheromone_matrix(data):\n",
        "    m = np.ones(data.shape)\n",
        "    for i in range(len(m)):\n",
        "        m[i][i]= 0\n",
        "    return m "
      ]
    },
    {
      "cell_type": "code",
      "execution_count": null,
      "metadata": {
        "id": "qrhsbfb53_bh"
      },
      "outputs": [],
      "source": [
        "def initialize_colony(ants_number, data):\n",
        "    ants= []\n",
        "    begin = np.random.randint(len(data))\n",
        "    for i in range(ants_number):\n",
        "        ants.append(Ant(begin))\n",
        "    return ants , begin"
      ]
    },
    {
      "cell_type": "markdown",
      "metadata": {
        "id": "3YnjupWU3_bi"
      },
      "source": [
        "## Ant Colony Algorithm "
      ]
    },
    {
      "cell_type": "code",
      "execution_count": null,
      "metadata": {
        "id": "7ZKrbGl93_bj"
      },
      "outputs": [],
      "source": [
        "def AntColony(data,ants_number = 4, alpha = 0.7 , beta = 0.4 , evaporate_rate = 0.1,random_rate=0.5 , show_history = False):\n",
        "    assert ants_number >=2 \n",
        "    path = []\n",
        "    cost = 0.0\n",
        "    stop = False \n",
        "    pheromone = initialize_pheromone_matrix(data)\n",
        "    ants , begin = initialize_colony(ants_number=ants_number, data=data)\n",
        "    while (not stop) : \n",
        "        #first : visit nodes with ants\n",
        "        for ant in ants:\n",
        "            #looking for a cycle\n",
        "            while (len(ant.path) != len(data)):\n",
        "                ant.next_node(data=data,pheromone=pheromone, alpha=alpha, beta = beta,random_rate=random_rate)\n",
        "        \n",
        "        #second : evaporation \n",
        "        pheromone=np.dot(pheromone,1-evaporate_rate)\n",
        "        \n",
        "        #last : update the pheremone in nodes \n",
        "        for ant in ants:\n",
        "            pheromone = ant.update_pheromone(pheromone=pheromone,q=10)\n",
        "        \n",
        "        #checking the stop condition\n",
        "        path = ants[0].path\n",
        "        stop = True\n",
        "        for ant in ants[1:]:\n",
        "            stop = stop and np.array_equal(path,ant.path)\n",
        "        random_rate = random_rate / 10\n",
        "        \n",
        "        #an optional feature to print the history of paths\n",
        "        if show_history :  \n",
        "            show_paths(ants=ants)\n",
        "\n",
        "        #reseting paths \n",
        "        for ant in ants :\n",
        "            if not stop : ant.reset_path()\n",
        "    else :\n",
        "        return ants[0].path , ants[0].cost"
      ]
    },
    {
      "cell_type": "code",
      "execution_count": null,
      "metadata": {
        "id": "zU-jYW383_bk"
      },
      "outputs": [],
      "source": [
        "p,c = AntColony(data=data,ants_number=4,alpha = 0.5,beta = 0.1,evaporate_rate=0.1,random_rate=0.7,show_history=False)\n",
        "print(p , c)"
      ]
    },
    {
      "cell_type": "markdown",
      "metadata": {
        "id": "_JuLCpdR3_bn"
      },
      "source": [
        "## Running algorithm multiple times to get lower cost"
      ]
    },
    {
      "cell_type": "code",
      "execution_count": null,
      "metadata": {
        "id": "Ft2efkJR3_bn"
      },
      "outputs": [],
      "source": [
        "p = [] \n",
        "c = np.inf\n",
        "for i in range(20): \n",
        "    path , cost = AntColony(data=data,ants_number=5,alpha = 0.5,beta = 0.1,evaporate_rate=0.1,random_rate=0.7,show_history=False)\n",
        "    if(cost < c ):\n",
        "        c = cost \n",
        "        p = path"
      ]
    },
    {
      "cell_type": "code",
      "execution_count": null,
      "metadata": {
        "id": "SyNr8QCA3_bo"
      },
      "outputs": [],
      "source": [
        "print(p , c)"
      ]
    },
    {
      "cell_type": "markdown",
      "source": [
        "# Create a dataset to compare params "
      ],
      "metadata": {
        "id": "unebiSnR4Tjf"
      }
    },
    {
      "cell_type": "code",
      "source": [
        "import time\n",
        "import random\n",
        "# writing data result to a CSV file to use it in ANOVA \n",
        "\"\"\"import csv\n",
        "import pandas as pd\n",
        " \n",
        "# field names                                                    \n",
        "fields = ['data_set','Ants_number', 'Alpha', 'Beta' , 'Evaporate_rate', 'Random_rate', 'nbr_iterations', 'cost', 'time'] \n",
        "    \n",
        "# URL of csv file \n",
        "fileURL = \"https://raw.githubusercontent.com/AmiraBelkis/tsp-ant-colony/AmiraBelkis-Param-1/data.csv\"    \n",
        "\n",
        "dataFile = pd.read_csv(fileURL, encoding = 'unicode_escape')\n",
        "# writing to csv file \n",
        "with open(fileURL, 'w') as csvfile: \n",
        "    # creating a csv writer object \n",
        "    csvwriter = csv.writer(csvfile)       \n",
        "    # writing the fields \n",
        "    csvwriter.writerow(fields) \"\"\"\n",
        "rows = []\n",
        "datasetList = ['data/data_101.tsp']\n",
        "# random_rate \n",
        "Random_rate = 0.5\n",
        "for dataset in datasetList: \n",
        "    instance = Parser.TSPInstance(dataset)\n",
        "    instance.readData()\n",
        "    data = np.copy(instance.data)\n",
        "    # ants_number loop\n",
        "    for i1 in range(1000):\n",
        "        Ants_number = random.randint(2,15)\n",
        "        # alpha \n",
        "        Alpha = random.randint(1,50)\n",
        "        # beta \n",
        "        Beta = random.randint(1,50)\n",
        "        # evaporate_rate \n",
        "        Evaporate_rate = random.randint(5,95)/100\n",
        "        # nbr_iterations loop\n",
        "        nbr_iterations = random.randint(1,10)\n",
        "        p = [] \n",
        "        c = np.inf\n",
        "        start_time = time.time()\n",
        "        for i in range(nbr_iterations): \n",
        "            path , cost = AntColony(data ,Ants_number ,Alpha ,Beta ,Evaporate_rate ,Random_rate ,show_history=False)                                    \n",
        "            if(cost < c ):\n",
        "                c = cost \n",
        "                p = path\n",
        "        end_time = time.time()\n",
        "        rows.append([dataset,Ants_number, Alpha,Beta ,Evaporate_rate, Random_rate, nbr_iterations, c ,  end_time-start_time])\n",
        "        #csvwriter.writerow([dataset,Ants_number, Alpha,Beta ,Evaporate_rate, Random_rate, nbr_iterations, c ,  end_time-start_time])\n",
        "print(rows)"
      ],
      "metadata": {
        "id": "QAxl6whS4SN_",
        "outputId": "2f42b6fb-38fa-435a-9adf-b6428493016d",
        "colab": {
          "base_uri": "https://localhost:8080/",
          "height": 237
        }
      },
      "execution_count": 3,
      "outputs": [
        {
          "output_type": "error",
          "ename": "NameError",
          "evalue": "ignored",
          "traceback": [
            "\u001b[0;31m---------------------------------------------------------------------------\u001b[0m",
            "\u001b[0;31mNameError\u001b[0m                                 Traceback (most recent call last)",
            "\u001b[0;32m<ipython-input-3-7fd53e545d70>\u001b[0m in \u001b[0;36m<module>\u001b[0;34m()\u001b[0m\n\u001b[1;32m     23\u001b[0m \u001b[0mRandom_rate\u001b[0m \u001b[0;34m=\u001b[0m \u001b[0;36m0.5\u001b[0m\u001b[0;34m\u001b[0m\u001b[0;34m\u001b[0m\u001b[0m\n\u001b[1;32m     24\u001b[0m \u001b[0;32mfor\u001b[0m \u001b[0mdataset\u001b[0m \u001b[0;32min\u001b[0m \u001b[0mdatasetList\u001b[0m\u001b[0;34m:\u001b[0m\u001b[0;34m\u001b[0m\u001b[0;34m\u001b[0m\u001b[0m\n\u001b[0;32m---> 25\u001b[0;31m     \u001b[0minstance\u001b[0m \u001b[0;34m=\u001b[0m \u001b[0mParser\u001b[0m\u001b[0;34m.\u001b[0m\u001b[0mTSPInstance\u001b[0m\u001b[0;34m(\u001b[0m\u001b[0mdataset\u001b[0m\u001b[0;34m)\u001b[0m\u001b[0;34m\u001b[0m\u001b[0;34m\u001b[0m\u001b[0m\n\u001b[0m\u001b[1;32m     26\u001b[0m     \u001b[0minstance\u001b[0m\u001b[0;34m.\u001b[0m\u001b[0mreadData\u001b[0m\u001b[0;34m(\u001b[0m\u001b[0;34m)\u001b[0m\u001b[0;34m\u001b[0m\u001b[0;34m\u001b[0m\u001b[0m\n\u001b[1;32m     27\u001b[0m     \u001b[0mdata\u001b[0m \u001b[0;34m=\u001b[0m \u001b[0mnp\u001b[0m\u001b[0;34m.\u001b[0m\u001b[0mcopy\u001b[0m\u001b[0;34m(\u001b[0m\u001b[0minstance\u001b[0m\u001b[0;34m.\u001b[0m\u001b[0mdata\u001b[0m\u001b[0;34m)\u001b[0m\u001b[0;34m\u001b[0m\u001b[0;34m\u001b[0m\u001b[0m\n",
            "\u001b[0;31mNameError\u001b[0m: name 'Parser' is not defined"
          ]
        }
      ]
    }
  ],
  "metadata": {
    "interpreter": {
      "hash": "5d4ab10f8addeb4ec7c8070a6ac8badac9a4da5f132f94d10455475efcc7a504"
    },
    "kernelspec": {
      "display_name": "Python 3 (ipykernel)",
      "language": "python",
      "name": "python3"
    },
    "language_info": {
      "codemirror_mode": {
        "name": "ipython",
        "version": 3
      },
      "file_extension": ".py",
      "mimetype": "text/x-python",
      "name": "python",
      "nbconvert_exporter": "python",
      "pygments_lexer": "ipython3",
      "version": "3.9.9"
    },
    "colab": {
      "name": "main.ipynb",
      "provenance": [],
      "toc_visible": true
    }
  },
  "nbformat": 4,
  "nbformat_minor": 0
}