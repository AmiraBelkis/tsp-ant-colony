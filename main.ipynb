{
  "cells": [
    {
      "cell_type": "code",
      "execution_count": null,
      "metadata": {
        "id": "dD1iNRli3_bL"
      },
      "outputs": [],
      "source": [
        "\"\"\"\n",
        "#importing from github\n",
        "!git clone https://github.com/AmiraBelkis/tsp-ant-colony.git\n",
        "import sys\n",
        "sys.path.append('/content/tsp-ant-colony')\"\"\"\n",
        "import time\n",
        "import random\n",
        "import numpy as np\n",
        "import Parser\n",
        "instance = Parser.TSPInstance('/content/tsp-ant-colony/data/data_101.tsp')\n",
        "instance.readData()\n",
        "data = np.copy(instance.data)"
      ]
    },
    {
      "cell_type": "markdown",
      "metadata": {
        "id": "m7XUSkZE3_bS"
      },
      "source": [
        "## Helper methods"
      ]
    },
    {
      "cell_type": "code",
      "execution_count": null,
      "metadata": {
        "id": "CXmGJMrK3_bW"
      },
      "outputs": [],
      "source": [
        "def norm_random():\n",
        "    return np.random.randint(100)/100"
      ]
    },
    {
      "cell_type": "markdown",
      "metadata": {
        "id": "MzcEEPpl3_bY"
      },
      "source": [
        "This function represents the amount of attraciveness of a path against the pheromones put in it \n",
        "$({\\tau^{\\alpha}_x}_y)\\times({\\zeta^{\\beta}_x}_y)$\n"
      ]
    },
    {
      "cell_type": "code",
      "execution_count": null,
      "metadata": {
        "id": "V0bG6y0N3_bZ"
      },
      "outputs": [],
      "source": [
        "def attract_pherm(x,y,alpha,beta,pheromone,data):\n",
        "    return (pheromone[x][y]**alpha)*((1/data[x][y])**beta)"
      ]
    },
    {
      "cell_type": "code",
      "execution_count": null,
      "metadata": {
        "id": "_s01XnVP3_ba"
      },
      "outputs": [],
      "source": [
        "def show_paths(ants):\n",
        "    print('completed iteration : ')\n",
        "    i = 1\n",
        "    for ant in ants :\n",
        "        print('ant',i,':',ant.path,', cost :',ant.cost)\n",
        "        i+=1"
      ]
    },
    {
      "cell_type": "markdown",
      "metadata": {
        "id": "mjbjbwqd3_bb"
      },
      "source": [
        "## Class of ant "
      ]
    },
    {
      "cell_type": "code",
      "execution_count": null,
      "metadata": {
        "id": "zAzKKI2x3_bc"
      },
      "outputs": [],
      "source": [
        "class Ant:\n",
        "    def __init__(self,begin):\n",
        "        self.path = [begin]\n",
        "        self.cost = 0.0\n",
        "    \n",
        "    #finding next node to visit in stochastic way\n",
        "    def next_node(self,data=[],pheromone=[],alpha=0.5,beta=0.5,random_rate=0.3):\n",
        "        next_node = -1\n",
        "        #case of an ant following the exploit method\n",
        "        if(norm_random()>=random_rate):\n",
        "            allowed_nodes = []\n",
        "            sum_of_probs = 0.0\n",
        "            #get all possible nodes\n",
        "            for i in range(len(data)):\n",
        "                if not (i in self.path): \n",
        "                    allowed_nodes.append(i)\n",
        "                    sum_of_probs += attract_pherm(x= self.path[-1] , y= i , alpha=alpha,beta=beta,pheromone=pheromone,data=data)\n",
        "            #counting probabilities\n",
        "            max_prob = 0\n",
        "\n",
        "            for node in allowed_nodes:\n",
        "                prob_xy = (attract_pherm(x= self.path[-1] , y= node , alpha=alpha,beta=beta,pheromone=pheromone,data=data))/sum_of_probs\n",
        "             \n",
        "                if prob_xy >= max_prob : \n",
        "                    next_node = node\n",
        "                    max_prob = prob_xy\n",
        "           \n",
        "        #case of an ant following the exploring method\n",
        "        else : \n",
        "            node = 0 \n",
        "            while(node in self.path):\n",
        "                node +=1\n",
        "            next_node = node\n",
        "\n",
        "        #adding cost \n",
        "        self.cost+= data[self.path[-1]][next_node]\n",
        "\n",
        "        if(len(self.path)==len(data)):\n",
        "            self.cost+= data[self.path[-1]][0]\n",
        "            \n",
        "        self.path.append(next_node)\n",
        "    \n",
        "    #updating pheromone \n",
        "    def update_pheromone(self, pheromone,q):\n",
        "        for i in range(len(self.path)-1):\n",
        "            pheromone[self.path[i]][self.path[i+1]]+= q/self.cost\n",
        "            pheromone[self.path[i+1]][self.path[i]]+= q/self.cost\n",
        "        new_ph = pheromone\n",
        "        return new_ph\n",
        "    \n",
        "    #reset path\n",
        "    def reset_path(self):\n",
        "        self.cost = 0.0\n",
        "        self.path = [self.path[0]]"
      ]
    },
    {
      "cell_type": "markdown",
      "metadata": {
        "id": "MAdmswDF3_bf"
      },
      "source": [
        "## Initializing procedures"
      ]
    },
    {
      "cell_type": "code",
      "execution_count": null,
      "metadata": {
        "id": "WUtM2v2z3_bg"
      },
      "outputs": [],
      "source": [
        "def initialize_pheromone_matrix(data):\n",
        "    m = np.ones(data.shape)\n",
        "    for i in range(len(m)):\n",
        "        m[i][i]= 0\n",
        "    return m "
      ]
    },
    {
      "cell_type": "code",
      "execution_count": null,
      "metadata": {
        "id": "qrhsbfb53_bh"
      },
      "outputs": [],
      "source": [
        "def initialize_colony(ants_number, data):\n",
        "    ants= []\n",
        "    begin = np.random.randint(len(data))\n",
        "    for i in range(ants_number):\n",
        "        ants.append(Ant(begin))\n",
        "    return ants , begin"
      ]
    },
    {
      "cell_type": "markdown",
      "metadata": {
        "id": "3YnjupWU3_bi"
      },
      "source": [
        "## Ant Colony Algorithm "
      ]
    },
    {
      "cell_type": "code",
      "execution_count": null,
      "metadata": {
        "id": "7ZKrbGl93_bj"
      },
      "outputs": [],
      "source": [
        "def AntColony(data,ants_number = 4, alpha = 0.7 , beta = 0.4 , evaporate_rate = 0.1,random_rate=0.5 , show_history = False):\n",
        "    assert ants_number >=2 \n",
        "    path = []\n",
        "    cost = 0.0\n",
        "    stop = False \n",
        "    pheromone = initialize_pheromone_matrix(data)\n",
        "    ants , begin = initialize_colony(ants_number=ants_number, data=data)\n",
        "    while (not stop) : \n",
        "        #first : visit nodes with ants\n",
        "        for ant in ants:\n",
        "            #looking for a cycle\n",
        "            while (len(ant.path) != len(data)):\n",
        "                ant.next_node(data=data,pheromone=pheromone, alpha=alpha, beta = beta,random_rate=random_rate)\n",
        "        \n",
        "        #second : evaporation \n",
        "        pheromone=np.dot(pheromone,1-evaporate_rate)\n",
        "        \n",
        "        #last : update the pheremone in nodes \n",
        "        for ant in ants:\n",
        "            pheromone = ant.update_pheromone(pheromone=pheromone,q=10)\n",
        "        \n",
        "        #checking the stop condition\n",
        "        path = ants[0].path\n",
        "        stop = True\n",
        "        for ant in ants[1:]:\n",
        "            stop = stop and np.array_equal(path,ant.path)\n",
        "        random_rate = random_rate / 10\n",
        "        \n",
        "        #an optional feature to print the history of paths\n",
        "        if show_history :  \n",
        "            show_paths(ants=ants)\n",
        "\n",
        "        #reseting paths \n",
        "        for ant in ants :\n",
        "            if not stop : ant.reset_path()\n",
        "    else :\n",
        "        return ants[0].path , ants[0].cost"
      ]
    },
    {
      "cell_type": "code",
      "execution_count": null,
      "metadata": {
        "colab": {
          "base_uri": "https://localhost:8080/"
        },
        "id": "zU-jYW383_bk",
        "outputId": "289e1360-e1cd-4417-f75e-316f96192289"
      },
      "outputs": [
        {
          "output_type": "stream",
          "name": "stdout",
          "text": [
            "[66, 38, 55, 74, 73, 71, 72, 20, 39, 57, 52, 100, 26, 68, 0, 49, 75, 76, 2, 78, 80, 32, 50, 8, 70, 34, 33, 77, 28, 23, 79, 67, 11, 25, 27, 88, 5, 93, 94, 96, 91, 58, 98, 95, 92, 84, 90, 99, 36, 97, 60, 15, 85, 43, 13, 41, 86, 56, 1, 12, 59, 82, 17, 51, 87, 30, 69, 29, 19, 65, 64, 31, 89, 62, 10, 18, 48, 35, 46, 47, 81, 7, 44, 16, 83, 4, 6, 61, 9, 63, 45, 37, 42, 14, 40, 21, 22, 3, 54, 24, 53] 757.0\n"
          ]
        }
      ],
      "source": [
        "p,c = AntColony(data=data,ants_number=4,alpha = 0.5,beta = 0.1,evaporate_rate=0.1,random_rate=0.7,show_history=False)\n",
        "print(p , c)"
      ]
    },
    {
      "cell_type": "markdown",
      "metadata": {
        "id": "_JuLCpdR3_bn"
      },
      "source": [
        "## Running algorithm multiple times to get lower cost"
      ]
    },
    {
      "cell_type": "code",
      "execution_count": null,
      "metadata": {
        "id": "Ft2efkJR3_bn"
      },
      "outputs": [],
      "source": [
        "p = [] \n",
        "c = np.inf\n",
        "for i in range(20): \n",
        "    path , cost = AntColony(data=data,ants_number=5,alpha = 0.5,beta = 0.1,evaporate_rate=0.1,random_rate=0.7,show_history=False)\n",
        "    if(cost < c ):\n",
        "        c = cost \n",
        "        p = path"
      ]
    },
    {
      "cell_type": "code",
      "execution_count": null,
      "metadata": {
        "colab": {
          "base_uri": "https://localhost:8080/"
        },
        "id": "SyNr8QCA3_bo",
        "outputId": "5dcaac48-66a1-4549-df21-91aee651b896"
      },
      "outputs": [
        {
          "output_type": "stream",
          "name": "stdout",
          "text": [
            "[75, 76, 2, 78, 77, 33, 34, 70, 8, 80, 32, 50, 19, 29, 69, 30, 87, 61, 9, 89, 62, 31, 65, 64, 49, 0, 68, 26, 100, 52, 57, 39, 25, 11, 79, 67, 28, 23, 53, 54, 24, 38, 22, 55, 74, 73, 71, 72, 20, 21, 40, 56, 1, 86, 96, 94, 93, 5, 95, 98, 58, 91, 97, 36, 99, 90, 84, 92, 60, 15, 85, 43, 13, 37, 42, 14, 41, 12, 88, 51, 17, 82, 59, 4, 83, 16, 44, 7, 81, 47, 46, 35, 48, 63, 10, 18, 6, 45, 27, 3, 66] 735.0\n"
          ]
        }
      ],
      "source": [
        "print(p , c)"
      ]
    },
    {
      "cell_type": "markdown",
      "source": [
        "# Create a dataset to compare params "
      ],
      "metadata": {
        "id": "unebiSnR4Tjf"
      }
    },
    {
      "cell_type": "code",
      "source": [
        "\"\"\"# writing data result to a CSV file to use it in ANOVA \n",
        "import csv\n",
        "import pandas as pd\n",
        " \n",
        "# field names                                                    \n",
        "fields = ['data_set','Ants_number', 'Alpha', 'Beta' , 'Evaporate_rate', 'Random_rate', 'nbr_iterations', 'cost', 'time'] \n",
        "    \n",
        "# URL of csv file \n",
        "fileURL = \"https://raw.githubusercontent.com/AmiraBelkis/tsp-ant-colony/AmiraBelkis-Param-1/data.csv\"    \n",
        "\n",
        "dataFile = pd.read_csv(fileURL, encoding = 'unicode_escape')\n",
        "# writing to csv file \n",
        "with open(fileURL, 'w') as csvfile: \n",
        "    # creating a csv writer object \n",
        "    csvwriter = csv.writer(csvfile)       \n",
        "    # writing the fields \n",
        "    csvwriter.writerow(fields) \"\"\"\n",
        "rows = []\n",
        "datasetList = ['data/data_101.tsp']\n",
        "# random_rate \n",
        "Random_rate = 0.5\n",
        "\n",
        "\"\"\"instance = Parser.TSPInstance(dataset)\n",
        "instance.readData()\n",
        "data = np.copy(instance.data)\"\"\"\n",
        "# ants_number loop\n",
        "for i1 in range(10):\n",
        "    Ants_number = random.randint(2,15)\n",
        "    # alpha \n",
        "    Alpha = random.randint(1,50)\n",
        "    # beta \n",
        "    Beta = random.randint(1,50)\n",
        "    # evaporate_rate \n",
        "    Evaporate_rate = random.randint(5,95)/100\n",
        "    # nbr_iterations loop\n",
        "    nbr_iterations = random.randint(1,10)\n",
        "    p = [] \n",
        "    c = np.inf\n",
        "    start_time = time.time()\n",
        "    for i in range(nbr_iterations): \n",
        "        path , cost = AntColony(data ,Ants_number ,Alpha ,Beta ,Evaporate_rate ,Random_rate ,show_history=False)                                    \n",
        "        if(cost < c ):\n",
        "            c = cost \n",
        "            p = path\n",
        "    end_time = time.time()\n",
        "    rows.append([Ants_number, Alpha,Beta ,Evaporate_rate, Random_rate, nbr_iterations, c ,  end_time-start_time])\n",
        "        #csvwriter.writerow([dataset,Ants_number, Alpha,Beta ,Evaporate_rate, Random_rate, nbr_iterations, c ,  end_time-start_time])\n",
        "print(rows)"
      ],
      "metadata": {
        "colab": {
          "base_uri": "https://localhost:8080/"
        },
        "id": "QAxl6whS4SN_",
        "outputId": "58b1c071-b424-42b3-fb24-a850ad100619"
      },
      "execution_count": null,
      "outputs": [
        {
          "output_type": "stream",
          "name": "stderr",
          "text": [
            "/usr/local/lib/python3.7/dist-packages/ipykernel_launcher.py:22: RuntimeWarning: invalid value encountered in double_scalars\n"
          ]
        }
      ]
    },
    {
      "cell_type": "markdown",
      "source": [
        "# Analysing data \"PCA\" "
      ],
      "metadata": {
        "id": "J1TeFslvxYo6"
      }
    },
    {
      "cell_type": "code",
      "source": [
        "import dataclasses\n",
        "import random\n",
        "import matplotlib.pyplot as plt\n",
        "import pandas as pd\n",
        "import sklearn as sk\n",
        "from sklearn.decomposition import PCA\n",
        "\"\"\"\n",
        "# generate data to test the PCA \n",
        "observations = ['obs' + str(i) for i in range(1,101)]\n",
        "wt = ['wt' + str(i) for i in range(1,6)]\n",
        "ko = ['ko' + str(i) for i in range(1,6)]\n",
        "data = pd.DataFrame(columns=[*wt,*ko],index=observations)\n",
        "for obs in data.index:\n",
        "    data.loc[obs,'wt1':'wt5'] =  np.random.randint(1,50,5)\n",
        "    data.loc[obs,'ko1':'ko5'] =  np.random.randint(1,5000,5)\n",
        "\"\"\"\n",
        "\n",
        "# import data from csv file  \n",
        "data = pd.read_csv('/content/data.csv')\n",
        "# remove the observation name from data \n",
        "data.drop(data.columns[0], inplace=True, axis= 1)\n",
        "#data = data.head(500)\n",
        "print(\"The DataFrame object\")\n",
        "print(data.head())\n",
        "print(data.shape)\n",
        "\n",
        "\n",
        "# scaling data ie (data - mean)^2/ standard deviation\n",
        "scaled_data = sk.preprocessing.scale(data.T)\n",
        "# using the Transpose because we need col to be the observations\n",
        "#print(scaled_data[1:10])\n",
        "pca = PCA()\n",
        "pca.fit(scaled_data)\n",
        "pca_data = pca.transform(scaled_data)\n",
        "# claculate the % of variation of each PC \n",
        "per_var = np.round(pca.explained_variance_ratio_ *100 , decimals =2)\n",
        "# name each PC \n",
        "labels = ['PC' + str(i) for i in range(1, len(per_var) + 1)]\n",
        "# Create graph\n",
        " \n",
        "plt.bar(x=range(1,len(per_var)+1), height=per_var, tick_label=labels)\n",
        "plt.ylabel('Percentage of Explained Variance')\n",
        "plt.xlabel('Principal Component')\n",
        "plt.title('Scree Plot')\n",
        "plt.show()"
      ],
      "metadata": {
        "colab": {
          "base_uri": "https://localhost:8080/",
          "height": 555
        },
        "id": "HIcg1aILxnTk",
        "outputId": "978c8a92-317b-42a6-8145-edf2b3781f5d"
      },
      "execution_count": 49,
      "outputs": [
        {
          "output_type": "stream",
          "name": "stdout",
          "text": [
            "The DataFrame object\n",
            "   data_set_size  Ants_number  Alpha  Beta  Evaporate_rate  Random_rate  \\\n",
            "0             14            8    6.5   7.5            0.26         0.80   \n",
            "1             14            4    6.4   5.8            0.79         0.24   \n",
            "2             14            2    3.2   0.4            0.69         0.58   \n",
            "3             14            7    6.9   3.9            0.77         0.94   \n",
            "4             14            3    4.9   4.9            0.46         0.56   \n",
            "\n",
            "   nbr_iterations         cost      time  \n",
            "0               8  2921.637284  0.182897  \n",
            "1               8  2890.892557  0.072974  \n",
            "2               5  2980.952456  0.012975  \n",
            "3              10  3077.375171  0.157907  \n",
            "4               2  2921.637284  0.007995  \n",
            "(1500, 9)\n"
          ]
        },
        {
          "output_type": "display_data",
          "data": {
            "text/plain": [
              "<Figure size 432x288 with 1 Axes>"
            ],
            "image/png": "[encoded data removed]"
          },
          "metadata": {
            "needs_background": "light"
          }
        }
      ]
    },
    {
      "cell_type": "code",
      "source": [
        "#the following code makes a fancy looking plot using PC1 and PC2\n",
        "pca_df = pd.DataFrame(pca_data, index=[data.columns], columns=labels)\n",
        "print(pca_df.PC1,'\\n', pca_df.PC2,'\\n', pca_df.PC3) \n",
        "plt.scatter(pca_df.PC1, pca_df.PC2)\n",
        "plt.title('My PCA Graph')\n",
        "plt.xlabel('PC1 - {0}%'.format(per_var[0]))\n",
        "plt.ylabel('PC2 - {0}%'.format(per_var[1]))\n",
        " \n",
        "for sample in pca_df.index:\n",
        "    plt.annotate(sample, (pca_df.PC1.loc[sample], pca_df.PC2.loc[sample]))\n",
        " \n",
        "plt.show()"
      ],
      "metadata": {
        "colab": {
          "base_uri": "https://localhost:8080/",
          "height": 816
        },
        "id": "7hdSVwyoCx7p",
        "outputId": "a4dd65b9-1e27-4329-c418-64f1a99a1985"
      },
      "execution_count": 52,
      "outputs": [
        {
          "output_type": "stream",
          "name": "stdout",
          "text": [
            "data_set_size     -12.906001\n",
            "Ants_number       -13.731664\n",
            "Alpha             -13.744697\n",
            "Beta              -13.743187\n",
            "Evaporate_rate    -13.905934\n",
            "Random_rate       -13.905431\n",
            "nbr_iterations    -13.719946\n",
            "cost              109.540482\n",
            "time              -13.883622\n",
            "Name: PC1, dtype: float64 \n",
            " data_set_size     0.393241\n",
            "Ants_number      -0.034517\n",
            "Alpha            -0.038146\n",
            "Beta             -0.038855\n",
            "Evaporate_rate   -0.081151\n",
            "Random_rate      -0.080940\n",
            "nbr_iterations   -0.024545\n",
            "cost             -0.002982\n",
            "time             -0.092107\n",
            "Name: PC2, dtype: float64 \n",
            " data_set_size     0.019456\n",
            "Ants_number      -0.016676\n",
            "Alpha            -0.047343\n",
            "Beta             -0.054400\n",
            "Evaporate_rate    0.030003\n",
            "Random_rate       0.029880\n",
            "nbr_iterations   -0.054755\n",
            "cost              0.000065\n",
            "time              0.093770\n",
            "Name: PC3, dtype: float64\n"
          ]
        },
        {
          "output_type": "display_data",
          "data": {
            "text/plain": [
              "<Figure size 432x288 with 1 Axes>"
            ],
            "image/png": "[encoded data removed]"
          },
          "metadata": {
            "needs_background": "light"
          }
        }
      ]
    },
    {
      "cell_type": "code",
      "source": [
        "## get the name of the top 10 measurements (genes) that contribute\n",
        "## most to pc1.\n",
        "## first, get the loading scores\n",
        "loading_scores = pd.Series(pca.components_[0],index=data.index)\n",
        "## now sort the loading scores based on their magnitude\n",
        "sorted_loading_scores = loading_scores.abs().sort_values(ascending=False)\n",
        " \n",
        "# get the names of the top 10 variables\n",
        "top_10_genes = sorted_loading_scores[0:10].index.values\n",
        " \n",
        "## print the variables names and their scores (and +/- sign)\n",
        "print(loading_scores[top_10_genes])\n",
        "\n"
      ],
      "metadata": {
        "colab": {
          "base_uri": "https://localhost:8080/"
        },
        "id": "_QQdsbTFC-55",
        "outputId": "801efd81-2669-4dd7-aadc-0204bd9956db"
      },
      "execution_count": 46,
      "outputs": [
        {
          "output_type": "stream",
          "name": "stdout",
          "text": [
            "272    0.044721\n",
            "401    0.044721\n",
            "446    0.044721\n",
            "305    0.044721\n",
            "268    0.044721\n",
            "115    0.044721\n",
            "107    0.044721\n",
            "124    0.044721\n",
            "339    0.044721\n",
            "238    0.044721\n",
            "dtype: float64\n"
          ]
        }
      ]
    }
  ],
  "metadata": {
    "interpreter": {
      "hash": "5d4ab10f8addeb4ec7c8070a6ac8badac9a4da5f132f94d10455475efcc7a504"
    },
    "kernelspec": {
      "display_name": "Python 3 (ipykernel)",
      "language": "python",
      "name": "python3"
    },
    "language_info": {
      "codemirror_mode": {
        "name": "ipython",
        "version": 3
      },
      "file_extension": ".py",
      "mimetype": "text/x-python",
      "name": "python",
      "nbconvert_exporter": "python",
      "pygments_lexer": "ipython3",
      "version": "3.9.9"
    },
    "colab": {
      "name": "main.ipynb",
      "provenance": []
    }
  },
  "nbformat": 4,
  "nbformat_minor": 0
}