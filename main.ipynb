{
 "cells": [
  {
   "cell_type": "code",
   "execution_count": 24,
   "metadata": {},
   "outputs": [],
   "source": [
    "import numpy as np\n",
    "import Parser\n",
    "instance = Parser.TSPInstance('data/data_101.tsp')\n",
    "instance.readData()\n",
    "data = np.copy(instance.data)"
   ]
  },
  {
   "cell_type": "markdown",
   "metadata": {},
   "source": [
    "## Helper methods"
   ]
  },
  {
   "cell_type": "code",
   "execution_count": 25,
   "metadata": {},
   "outputs": [],
   "source": [
    "def norm_random():\n",
    "    return np.random.randint(100)/100"
   ]
  },
  {
   "cell_type": "markdown",
   "metadata": {},
   "source": [
    "This function represents the amount of attraciveness of a path against the pheromones put in it \n",
    "$({\\tau^{\\alpha}_x}_y)\\times({\\zeta^{\\beta}_x}_y)$\n"
   ]
  },
  {
   "cell_type": "code",
   "execution_count": 26,
   "metadata": {},
   "outputs": [],
   "source": [
    "def attract_pherm(x,y,alpha,beta,pheromone,data):\n",
    "    return (pheromone[x][y]**alpha)*((1/data[x][y])**beta)"
   ]
  },
  {
   "cell_type": "code",
   "execution_count": 27,
   "metadata": {},
   "outputs": [],
   "source": [
    "def show_paths(ants):\n",
    "    print('completed iteration : ')\n",
    "    i = 1\n",
    "    for ant in ants :\n",
    "        print('ant',i,':',ant.path,', cost :',ant.cost)\n",
    "        i+=1"
   ]
  },
  {
   "cell_type": "markdown",
   "metadata": {},
   "source": [
    "## Class of ant "
   ]
  },
  {
   "cell_type": "code",
   "execution_count": 28,
   "metadata": {},
   "outputs": [],
   "source": [
    "class Ant:\n",
    "    def __init__(self,begin):\n",
    "        self.path = [begin]\n",
    "        self.cost = 0.0\n",
    "    \n",
    "    #finding next node to visit in stochastic way\n",
    "    def next_node(self,data=[],pheromone=[],alpha=0.5,beta=0.5,random_rate=0.3):\n",
    "        next_node = -1\n",
    "        #case of an ant following the exploit method\n",
    "        if(norm_random()>=random_rate):\n",
    "            allowed_nodes = []\n",
    "            sum_of_probs = 0.0\n",
    "            #get all possible nodes\n",
    "            for i in range(len(data)):\n",
    "                if not (i in self.path): \n",
    "                    allowed_nodes.append(i)\n",
    "                    sum_of_probs += attract_pherm(x= self.path[-1] , y= i , alpha=alpha,beta=beta,pheromone=pheromone,data=data)\n",
    "            #counting probabilities\n",
    "            max_prob = 0\n",
    "\n",
    "            for node in allowed_nodes:\n",
    "                prob_xy = (attract_pherm(x= self.path[-1] , y= node , alpha=alpha,beta=beta,pheromone=pheromone,data=data))/sum_of_probs\n",
    "             \n",
    "                if prob_xy >= max_prob : \n",
    "                    next_node = node\n",
    "                    max_prob = prob_xy\n",
    "           \n",
    "        #case of an ant following the exploring method\n",
    "        else : \n",
    "            node = 0 \n",
    "            while(node in self.path):\n",
    "                node +=1\n",
    "            next_node = node\n",
    "\n",
    "        #adding cost \n",
    "        self.cost+= data[self.path[-1]][next_node]\n",
    "\n",
    "        if(len(self.path)==len(data)):\n",
    "            self.cost+= data[self.path[-1]][0]\n",
    "            \n",
    "        self.path.append(next_node)\n",
    "    \n",
    "    #updating pheromone \n",
    "    def update_pheromone(self, pheromone,q):\n",
    "        for i in range(len(self.path)-1):\n",
    "            pheromone[self.path[i]][self.path[i+1]]+= q/self.cost\n",
    "            pheromone[self.path[i+1]][self.path[i]]+= q/self.cost\n",
    "        new_ph = pheromone\n",
    "        return new_ph\n",
    "    \n",
    "    #reset path\n",
    "    def reset_path(self):\n",
    "        self.cost = 0.0\n",
    "        self.path = [self.path[0]]"
   ]
  },
  {
   "cell_type": "markdown",
   "metadata": {},
   "source": [
    "## Initializing procedures"
   ]
  },
  {
   "cell_type": "code",
   "execution_count": 29,
   "metadata": {},
   "outputs": [],
   "source": [
    "def initialize_pheromone_matrix(data):\n",
    "    m = np.ones(data.shape)\n",
    "    for i in range(len(m)):\n",
    "        m[i][i]= 0\n",
    "    return m "
   ]
  },
  {
   "cell_type": "code",
   "execution_count": 30,
   "metadata": {},
   "outputs": [],
   "source": [
    "def initialize_colony(ants_number, data):\n",
    "    ants= []\n",
    "    begin = np.random.randint(len(data))\n",
    "    for i in range(ants_number):\n",
    "        ants.append(Ant(begin))\n",
    "    return ants , begin"
   ]
  },
  {
   "cell_type": "markdown",
   "metadata": {},
   "source": [
    "## Ant Colony Algorithm "
   ]
  },
  {
   "cell_type": "code",
   "execution_count": 31,
   "metadata": {},
   "outputs": [],
   "source": [
    "def AntColony(data,ants_number = 4, alpha = 0.7 , beta = 0.4 , evaporate_rate = 0.1,random_rate=0.5 , show_history = False):\n",
    "    assert ants_number >=2 \n",
    "    path = []\n",
    "    cost = 0.0\n",
    "    stop = False \n",
    "    pheromone = initialize_pheromone_matrix(data)\n",
    "    ants , begin = initialize_colony(ants_number=ants_number, data=data)\n",
    "    while (not stop) : \n",
    "        #first : visit nodes with ants\n",
    "        for ant in ants:\n",
    "            #looking for a cycle\n",
    "            while (len(ant.path) != len(data)):\n",
    "                ant.next_node(data=data,pheromone=pheromone, alpha=alpha, beta = beta,random_rate=random_rate)\n",
    "        \n",
    "        #second : evaporation \n",
    "        pheromone=np.dot(pheromone,1-evaporate_rate)\n",
    "        \n",
    "        #last : update the pheremone in nodes \n",
    "        for ant in ants:\n",
    "            pheromone = ant.update_pheromone(pheromone=pheromone,q=10)\n",
    "        \n",
    "        #checking the stop condition\n",
    "        path = ants[0].path\n",
    "        stop = True\n",
    "        for ant in ants[1:]:\n",
    "            stop = stop and np.array_equal(path,ant.path)\n",
    "        random_rate = random_rate / 10\n",
    "        \n",
    "        #an optional feature to print the history of paths\n",
    "        if show_history :  \n",
    "            show_paths(ants=ants)\n",
    "\n",
    "        #reseting paths \n",
    "        for ant in ants :\n",
    "            if not stop : ant.reset_path()\n",
    "    else :\n",
    "        return ants[0].path , ants[0].cost"
   ]
  },
  {
   "cell_type": "code",
   "execution_count": 33,
   "metadata": {},
   "outputs": [
    {
     "name": "stdout",
     "output_type": "stream",
     "text": [
      "[1, 56, 86, 96, 94, 93, 5, 95, 98, 58, 91, 97, 36, 99, 90, 84, 92, 60, 15, 85, 43, 13, 41, 42, 14, 40, 21, 73, 71, 72, 20, 39, 57, 52, 100, 26, 68, 0, 49, 75, 76, 2, 78, 80, 32, 50, 8, 70, 34, 33, 77, 28, 23, 79, 67, 11, 25, 27, 88, 51, 17, 82, 59, 4, 83, 16, 44, 7, 81, 47, 46, 35, 48, 18, 10, 62, 89, 31, 29, 69, 30, 87, 6, 61, 9, 19, 65, 64, 63, 45, 12, 74, 55, 3, 54, 24, 38, 22, 66, 53, 37] 797.0\n"
     ]
    }
   ],
   "source": [
    "p,c = AntColony(data=data,ants_number=4,alpha = 0.5,beta = 0.1,evaporate_rate=0.1,random_rate=0.7,show_history=False)\n",
    "print(p , c)"
   ]
  },
  {
   "cell_type": "markdown",
   "metadata": {},
   "source": [
    "## Running algorithm multiple times to get lower cost"
   ]
  },
  {
   "cell_type": "code",
   "execution_count": 38,
   "metadata": {},
   "outputs": [],
   "source": [
    "p = [] \n",
    "c = np.inf\n",
    "for i in range(20): \n",
    "    path , cost = AntColony(data=data,ants_number=5,alpha = 0.5,beta = 0.1,evaporate_rate=0.1,random_rate=0.7,show_history=False)\n",
    "    if(cost < c ):\n",
    "        c = cost \n",
    "        p = path"
   ]
  },
  {
   "cell_type": "code",
   "execution_count": 39,
   "metadata": {},
   "outputs": [
    {
     "name": "stdout",
     "output_type": "stream",
     "text": [
      "[97, 36, 99, 90, 84, 92, 98, 95, 58, 91, 96, 94, 93, 5, 88, 51, 17, 82, 59, 4, 83, 16, 44, 7, 81, 47, 46, 35, 48, 63, 62, 89, 31, 29, 69, 30, 87, 6, 61, 9, 10, 18, 45, 60, 15, 43, 13, 41, 86, 56, 1, 72, 71, 73, 21, 40, 74, 55, 3, 53, 54, 24, 38, 22, 66, 20, 39, 57, 52, 100, 26, 68, 0, 49, 75, 76, 2, 78, 77, 33, 34, 70, 8, 80, 32, 50, 19, 65, 64, 28, 23, 79, 67, 11, 25, 27, 12, 14, 42, 37, 85] 728.0\n"
     ]
    }
   ],
   "source": [
    "print(p , c)"
   ]
  }
 ],
 "metadata": {
  "interpreter": {
   "hash": "5d4ab10f8addeb4ec7c8070a6ac8badac9a4da5f132f94d10455475efcc7a504"
  },
  "kernelspec": {
   "display_name": "Python 3 (ipykernel)",
   "language": "python",
   "name": "python3"
  },
  "language_info": {
   "codemirror_mode": {
    "name": "ipython",
    "version": 3
   },
   "file_extension": ".py",
   "mimetype": "text/x-python",
   "name": "python",
   "nbconvert_exporter": "python",
   "pygments_lexer": "ipython3",
   "version": "3.9.9"
  }
 },
 "nbformat": 4,
 "nbformat_minor": 2
}
