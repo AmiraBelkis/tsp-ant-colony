{
 "cells": [
  {
   "cell_type": "code",
   "execution_count": 108,
   "metadata": {},
   "outputs": [],
   "source": [
    "import numpy as np\n",
    "import Parser\n",
    "instance = Parser.TSPInstance('data/data_tsp.tsp')\n",
    "instance.readData()\n",
    "data = np.copy(instance.data)"
   ]
  },
  {
   "cell_type": "markdown",
   "metadata": {},
   "source": [
    "## Helper methods"
   ]
  },
  {
   "cell_type": "code",
   "execution_count": 109,
   "metadata": {},
   "outputs": [],
   "source": [
    "def norm_random():\n",
    "    return np.random.randint(100)/100"
   ]
  },
  {
   "cell_type": "markdown",
   "metadata": {},
   "source": [
    "This function represents the amount of attraciveness of a path against the pheromones put in it \n",
    "$({\\tau^{\\alpha}_x}_y)\\times({\\zeta^{\\beta}_x}_y)$\n"
   ]
  },
  {
   "cell_type": "code",
   "execution_count": 110,
   "metadata": {},
   "outputs": [],
   "source": [
    "def attract_pherm(x,y,alpha,beta,pheromone,data):\n",
    "    return (pheromone[x][y]**alpha)*((1/data[x][y])**beta)"
   ]
  },
  {
   "cell_type": "markdown",
   "metadata": {},
   "source": [
    "## Class of ant "
   ]
  },
  {
   "cell_type": "code",
   "execution_count": 111,
   "metadata": {},
   "outputs": [],
   "source": [
    "class Ant:\n",
    "    def __init__(self,begin):\n",
    "        self.path = [begin]\n",
    "        self.cost = 0.0\n",
    "    \n",
    "    #finding next node to visit in stochastic way\n",
    "    def next_node(self,data=[],pheromone=[],alpha=0.5,beta=0.5,random_rate=0.3):\n",
    "        next_node = -1\n",
    "        #case of an ant following the exploit method\n",
    "        if(norm_random()>=random_rate):\n",
    "            allowed_nodes = []\n",
    "            sum_of_probs = 0.0\n",
    "            #get all possible nodes\n",
    "            for i in range(len(data)):\n",
    "                if not (i in self.path): \n",
    "                    allowed_nodes.append(i)\n",
    "                    sum_of_probs += attract_pherm(x= self.path[-1] , y= i , alpha=alpha,beta=beta,pheromone=pheromone,data=data)\n",
    "            #counting probabilities\n",
    "            max_prob = 0\n",
    "            for node in allowed_nodes:\n",
    "                prob_xy = (attract_pherm(x= self.path[-1] , y= node , alpha=alpha,beta=beta,pheromone=pheromone,data=data))/sum_of_probs\n",
    "                if prob_xy >= max_prob : \n",
    "                    next_node = node\n",
    "        #case of an ant following the exploring method\n",
    "        else : \n",
    "            node = 0 \n",
    "            while(node in self.path):\n",
    "                node +=1\n",
    "            next_node = node\n",
    "\n",
    "        #adding cost \n",
    "        self.cost+= data[self.path[-1]][next_node]\n",
    "\n",
    "        if(len(self.path)==len(data)):\n",
    "            self.cost+= data[self.path[-1]][0]\n",
    "            \n",
    "        self.path.append(next_node)\n",
    "    \n",
    "    #updating pheromone \n",
    "    def update_pheromone(self, pheromone,q):\n",
    "        for i in range(len(self.path)-1):\n",
    "            pheromone[i][i+1]+= q/self.cost\n",
    "        new_ph = pheromone\n",
    "        return new_ph\n",
    "    \n",
    "    #reset path\n",
    "    def reset_path(self):\n",
    "        self.cost = 0.0\n",
    "        self.path = [self.path[0]]"
   ]
  },
  {
   "cell_type": "markdown",
   "metadata": {},
   "source": [
    "## Initializing procedures"
   ]
  },
  {
   "cell_type": "code",
   "execution_count": 112,
   "metadata": {},
   "outputs": [],
   "source": [
    "def initialize_pheromone_matrix(data):\n",
    "    m = np.ones(data.shape)\n",
    "    for i in range(len(m)):\n",
    "        m[i][i]= 0\n",
    "    return m "
   ]
  },
  {
   "cell_type": "code",
   "execution_count": 113,
   "metadata": {},
   "outputs": [],
   "source": [
    "def initialize_colony(ants_number, data):\n",
    "    ants= []\n",
    "    begin = np.random.randint(len(data))\n",
    "    for i in range(ants_number):\n",
    "        ants.append(Ant(begin))\n",
    "    return ants , begin"
   ]
  },
  {
   "cell_type": "code",
   "execution_count": 114,
   "metadata": {},
   "outputs": [],
   "source": [
    "def show_paths(ants):\n",
    "    print('completed iteration : ')\n",
    "    i = 1\n",
    "    for ant in ants :\n",
    "        print('ant',i,':',ant.path,', cost :',ant.cost)\n",
    "        i+=1"
   ]
  },
  {
   "cell_type": "markdown",
   "metadata": {},
   "source": [
    "## Ant Colony Algorithm "
   ]
  },
  {
   "cell_type": "code",
   "execution_count": 115,
   "metadata": {},
   "outputs": [],
   "source": [
    "def AntColony(data,ants_number = 4, alpha = 0.7 , beta = 0.4 , evaporate_rate = 0.1,random_rate=0.5):\n",
    "    assert ants_number >=1\n",
    "    path = []\n",
    "    cost = 0.0\n",
    "    stop = False \n",
    "    pheromone = initialize_pheromone_matrix(data)\n",
    "    ants , begin = initialize_colony(ants_number=ants_number, data=data)\n",
    "    while (not stop) : \n",
    "        #first : visit nodes with ants\n",
    "        for ant in ants:\n",
    "            #looking for a cycle\n",
    "            while (len(ant.path) != len(data)):\n",
    "                ant.next_node(data=data,pheromone=pheromone, alpha=alpha, beta = beta,random_rate=random_rate)\n",
    "        \n",
    "        #second : evaporation \n",
    "        np.dot(pheromone,1-evaporate_rate)\n",
    "        \n",
    "        #last : update the pheremone in nodes \n",
    "        for ant in ants:\n",
    "            pheromone = ant.update_pheromone(pheromone=pheromone,q=1)\n",
    "        \n",
    "        #checking the stop condition\n",
    "        path = ants[1].path\n",
    "        stop = True\n",
    "        for ant in ants[1:]:\n",
    "            stop = stop and np.array_equal(path,ant.path)\n",
    "        random_rate = random_rate / 10\n",
    "        show_paths(ants=ants)\n",
    "        #reseting paths \n",
    "        for ant in ants :\n",
    "            ant.reset_path()\n",
    "        "
   ]
  },
  {
   "cell_type": "code",
   "execution_count": 116,
   "metadata": {},
   "outputs": [
    {
     "name": "stdout",
     "output_type": "stream",
     "text": [
      "completed iteration : \n",
      "ant 1 : [1, 6, 5, 4, 0, 2, 3] , cost : 2903.134261113443\n",
      "ant 2 : [1, 6, 5, 4, 3, 0, 2] , cost : 2874.4518443384204\n",
      "ant 3 : [1, 0, 6, 5, 2, 3, 4] , cost : 2028.2997185375848\n",
      "ant 4 : [1, 0, 2, 6, 3, 5, 4] , cost : 2291.7925966537823\n",
      "completed iteration : \n",
      "ant 1 : [1, 6, 5, 4, 0, 3, 2] , cost : 3070.409605460208\n",
      "ant 2 : [1, 6, 5, 0, 4, 3, 2] , cost : 3093.189157123411\n",
      "ant 3 : [1, 6, 5, 4, 3, 2, 0] , cost : 2426.000334771491\n",
      "ant 4 : [1, 6, 5, 4, 3, 2, 0] , cost : 2426.000334771491\n",
      "completed iteration : \n",
      "ant 1 : [1, 6, 5, 4, 3, 2, 0] , cost : 2426.000334771491\n",
      "ant 2 : [1, 6, 5, 4, 3, 2, 0] , cost : 2426.000334771491\n",
      "ant 3 : [1, 6, 5, 4, 3, 2, 0] , cost : 2426.000334771491\n",
      "ant 4 : [1, 6, 5, 4, 3, 2, 0] , cost : 2426.000334771491\n"
     ]
    }
   ],
   "source": [
    "AntColony(data=data)"
   ]
  },
  {
   "cell_type": "code",
   "execution_count": null,
   "metadata": {},
   "outputs": [],
   "source": []
  }
 ],
 "metadata": {
  "interpreter": {
   "hash": "5d4ab10f8addeb4ec7c8070a6ac8badac9a4da5f132f94d10455475efcc7a504"
  },
  "kernelspec": {
   "display_name": "Python 3 (ipykernel)",
   "language": "python",
   "name": "python3"
  },
  "language_info": {
   "codemirror_mode": {
    "name": "ipython",
    "version": 3
   },
   "file_extension": ".py",
   "mimetype": "text/x-python",
   "name": "python",
   "nbconvert_exporter": "python",
   "pygments_lexer": "ipython3",
   "version": "3.9.9"
  }
 },
 "nbformat": 4,
 "nbformat_minor": 2
}
